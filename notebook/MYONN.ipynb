{
  "nbformat": 4,
  "nbformat_minor": 0,
  "metadata": {
    "colab": {
      "name": "MYONN",
      "provenance": [],
      "authorship_tag": "ABX9TyPjq92MJ0BHoyqUbH2aPZd2",
      "include_colab_link": true
    },
    "kernelspec": {
      "name": "python3",
      "display_name": "Python 3"
    }
  },
  "cells": [
    {
      "cell_type": "markdown",
      "metadata": {
        "id": "view-in-github",
        "colab_type": "text"
      },
      "source": [
        "<a href=\"https://colab.research.google.com/github/supermalang/ml-myonn/blob/master/notebook/MYONN.ipynb\" target=\"_parent\"><img src=\"https://colab.research.google.com/assets/colab-badge.svg\" alt=\"Open In Colab\"/></a>"
      ]
    },
    {
      "cell_type": "code",
      "metadata": {
        "id": "tBv1MR3_qWpB",
        "colab_type": "code",
        "colab": {}
      },
      "source": [
        "import numpy\n",
        "from scipy import special"
      ],
      "execution_count": 20,
      "outputs": []
    },
    {
      "cell_type": "code",
      "metadata": {
        "id": "uEeyvgjfq2Sj",
        "colab_type": "code",
        "colab": {}
      },
      "source": [
        "class NeuralNetwork:\n",
        "    # To set the number of input, hidden and output nodes\n",
        "    def __init__(self, inputnodes, hiddennodes, outputnodes, learningrate):\n",
        "        self.inodes = inputnodes\n",
        "        self.onodes = outputnodes\n",
        "        self.hnodes = hiddennodes\n",
        "\n",
        "        self.wih = numpy.random.normal(0.0, pow(self.inodes, -0.5), (self.hnodes, self.inodes))\n",
        "        self.who = numpy.random.normal(0.0, pow(self.hnodes, -0.5), (self.onodes, self.hnodes))\n",
        "        \n",
        "        self.lr = learningrate\n",
        "\n",
        "        self.activation_function = lambda x: scipy.special.expit(x)\n",
        "\n",
        "        pass\n",
        "\n",
        "\n",
        "    # Refine the weights after being given a training set example to learn from\n",
        "    def train(self, inputs_list, targetlist):\n",
        "        inputs = numpy.array(inputs_list, ndmin=2).T\n",
        "        targets = numpy.array(inputs_list, ndmin=2).T\n",
        "\n",
        "        hidden_inputs = numpy.dot(self.wih, inputs)\n",
        "        hidden_outputs = self.activation_function(hidden_inputs)\n",
        "\n",
        "        final_inputs = numpy.dot(self.who, hidden_outputs)\n",
        "        final_outputs = self.activation_function(final_inputs)\n",
        "        \n",
        "        output_errors = targets - final_outputs\n",
        "        hidden_errors = numpy.dot(self.who.T, output_errors)\n",
        "        \n",
        "        self.who += self.lr * numpy.dot((output_errors * final_outputs * (1.0 - final_outputs)), numpy.transpose(hidden_outputs))\n",
        "                                        \n",
        "        self.wih += self.lr * numpy.dot((hidden_errors * hidden_outputs * (1 - hidden_inputs)), numpy.transpose(inputs))\n",
        "        pass\n",
        "\n",
        "    # Give an answer from the output nodes after being given an inpu\n",
        "    def query(self, inputs_list):\n",
        "        inputs = numpy.array(inputs_list, ndmin=2).T\n",
        "\n",
        "        hidden_inputs = numpy.dot(self.wih, inputs)\n",
        "        hidden_outputs = self.activation_function(hidden_inputs)\n",
        "\n",
        "        final_inputs = numpy.dot(self.who, hidden_outputs)\n",
        "        final_outputs = self.activation_function(final_inputs)\n",
        "        \n",
        "        return final_outputs\n"
      ],
      "execution_count": 21,
      "outputs": []
    },
    {
      "cell_type": "code",
      "metadata": {
        "id": "oX-eHCSXq4Tz",
        "colab_type": "code",
        "colab": {}
      },
      "source": [
        "input_nodes = 3\n",
        "hidden_nodes = 3\n",
        "output_nodes = 3\n",
        "learning_rate = 0.5\n",
        "\n",
        "n = NeuralNetwork(input_nodes, hidden_nodes, output_nodes, learning_rate)"
      ],
      "execution_count": 22,
      "outputs": []
    },
    {
      "cell_type": "code",
      "metadata": {
        "id": "XEkgMka5q6vy",
        "colab_type": "code",
        "colab": {}
      },
      "source": [
        "n.train([-1, 5, -5], [10, 30, 0])\n",
        "result = n.query([1, 2, 3])"
      ],
      "execution_count": 23,
      "outputs": []
    },
    {
      "cell_type": "code",
      "metadata": {
        "id": "R_UNYfqGq9Hf",
        "colab_type": "code",
        "colab": {
          "base_uri": "https://localhost:8080/",
          "height": 68
        },
        "outputId": "e410045e-7811-42fb-8796-d9f187d35d9b"
      },
      "source": [
        "result"
      ],
      "execution_count": 24,
      "outputs": [
        {
          "output_type": "execute_result",
          "data": {
            "text/plain": [
              "array([[0.24253889],\n",
              "       [0.61826144],\n",
              "       [0.55393765]])"
            ]
          },
          "metadata": {
            "tags": []
          },
          "execution_count": 24
        }
      ]
    }
  ]
}